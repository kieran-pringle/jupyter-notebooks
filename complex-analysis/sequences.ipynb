{
 "cells": [
  {
   "cell_type": "code",
   "execution_count": 3,
   "id": "34d99324",
   "metadata": {},
   "outputs": [],
   "source": [
    "from manim import *\n",
    "from cmath import *\n",
    "\n",
    "config.media_width = \"60%\""
   ]
  },
  {
   "cell_type": "markdown",
   "id": "6dec5ac5",
   "metadata": {},
   "source": [
    "# Sequences, Convergence & Continuity"
   ]
  },
  {
   "cell_type": "code",
   "execution_count": 36,
   "id": "40fc2fe4",
   "metadata": {},
   "outputs": [],
   "source": [
    "def z_n(n):\n",
    "    return (1/n)*np.exp(-1j*PI*(1/n)) - 1;\n",
    "# estimate of what z_n converges to\n",
    "a = (-1 + 0j)\n",
    "\n",
    "def f(z):\n",
    "    return arg(z)\n",
    "\n",
    "f_a = f(a)"
   ]
  },
  {
   "cell_type": "code",
   "execution_count": 5,
   "id": "c09bba74",
   "metadata": {},
   "outputs": [],
   "source": [
    "# config\n",
    "n_max = 28 # steps to plot\n",
    "zoom_step = 4 # zoom every nth step"
   ]
  },
  {
   "cell_type": "markdown",
   "id": "25862377",
   "metadata": {},
   "source": [
    "## Convergence of a simple sequence"
   ]
  },
  {
   "cell_type": "markdown",
   "id": "11423f58",
   "metadata": {},
   "source": [
    "### z_n"
   ]
  },
  {
   "cell_type": "code",
   "execution_count": 37,
   "id": "c49c2533",
   "metadata": {},
   "outputs": [
    {
     "name": "stderr",
     "output_type": "stream",
     "text": [
      "                                                                                                   \r"
     ]
    },
    {
     "data": {
      "text/html": [
       "<video src=\"media/jupyter/ZnPlot@2021-10-31@13-51-02.mp4\" controls autoplay loop style=\"max-width: 60%;\"  >\n",
       "      Your browser does not support the <code>video</code> element.\n",
       "    </video>"
      ],
      "text/plain": [
       "<IPython.core.display.Video object>"
      ]
     },
     "metadata": {},
     "output_type": "display_data"
    }
   ],
   "source": [
    "%%manim -v ERROR -ql ZnPlot\n",
    "\n",
    "class ZnPlot(MovingCameraScene):\n",
    "    def construct(self):\n",
    "        axes_style = {'stroke_width': 0.25}\n",
    "        plane = ComplexPlane(\n",
    "            x_range=[-10, 10, 1],\n",
    "            y_range=[-10, 10, 1],\n",
    "            stroke_width = 0.25,\n",
    "            axis_config={'stroke_width': 0.25}, \n",
    "            background_line_style={'stroke_width': 0.25, 'stroke_color': TEAL}, \n",
    "            faded_line_style=axes_style\n",
    "        ).add_coordinates()\n",
    "        self.add(plane)\n",
    "        dots = []\n",
    "        rad = abs(z_n(1))\n",
    "        dot_rad = 0.1\n",
    "        \n",
    "        # create shrinking circle\n",
    "        circle = Circle(\n",
    "            radius=rad, color=BLUE_B, fill_opacity=0.2, stroke_width=0\n",
    "        ).move_to(\n",
    "            [a.real, a.imag, 0]\n",
    "        )\n",
    "        self.add(circle)\n",
    "        \n",
    "        for n in range(1,n_max + 1):\n",
    "            z = z_n(n)\n",
    "            dot = Dot([z.real,z.imag,0], radius=dot_rad)\n",
    "            dots.append(dot)\n",
    "            self.play(Create(dot), run_time = 0.25)\n",
    "            if (n%zoom_step == 0 and n < n_max):\n",
    "                # zoom in\n",
    "                # figure out new radius of circle\n",
    "                scale_factor = abs(z-a)/rad\n",
    "                self.play(\n",
    "                    self.camera.frame.animate.scale(scale_factor).move_to([a.real, a.imag, 0]),\n",
    "                    *[d.animate.scale(scale_factor) for d in dots]\n",
    "                )\n",
    "                self.play(circle.animate.scale(scale_factor))\n",
    "                dot_rad *= scale_factor\n",
    "                rad = abs(z-a)\n",
    "        self.wait(4)\n"
   ]
  },
  {
   "cell_type": "code",
   "execution_count": 38,
   "id": "c37cb6dd",
   "metadata": {},
   "outputs": [
    {
     "name": "stdout",
     "output_type": "stream",
     "text": [
      "a=(-1.0 + 0.0j)\n",
      "f(a)=3.142\n",
      "\n",
      "z_n                      |z_n - a|    f(z_n)    |f(z_n) - f(a)|\n",
      "---------------------  -----------  --------  -----------------\n",
      "(-2.0 - 1.225e-16j)      1          -3.1416             6.2832\n",
      "(-1.0 - 0.5j)            0.5        -2.67795            5.81958\n",
      "(-0.8333 - 0.2887j)      0.333332   -2.80814            5.94971\n",
      "(-0.8232 - 0.1768j)      0.249998   -2.93005            6.07166\n",
      "(-0.8382 - 0.1176j)      0.200001   -3.00226            6.14386\n",
      "(-0.8557 - 0.08333j)     0.16667    -3.04449            6.1861\n",
      "(-0.8713 - 0.06198j)     0.142855   -3.07056            6.21216\n",
      "(-0.8845 - 0.04784j)     0.125002   -3.08755            6.22913\n",
      "(-0.8956 - 0.038j)       0.111109   -3.09918            6.24078\n",
      "(-0.9049 - 0.0309j)      0.100002   -3.10745            6.24902\n",
      "(-0.9128 - 0.02561j)     0.090909   -3.11353            6.25513\n",
      "(-0.9195 - 0.02157j)     0.0833302  -3.11813            6.25977\n",
      "(-0.9253 - 0.01841j)     0.0769196  -3.1217             6.26331\n",
      "(-0.9304 - 0.01589j)     0.0714321  -3.12451            6.26611\n",
      "(-0.9348 - 0.01386j)     0.0666656  -3.12677            6.26837\n",
      "(-0.9387 - 0.01219j)     0.0625029  -3.1286             6.2702\n",
      "(-0.9422 - 0.01081j)     0.0588245  -3.13013            6.27173\n",
      "(-0.9453 - 0.009647j)    0.0555544  -3.13138            6.27295\n",
      "(-0.9481 - 0.008663j)    0.052628   -3.13245            6.27405\n",
      "(-0.9506 - 0.007822j)    0.0500007  -3.13336            6.27496\n",
      "(-0.9529 - 0.007097j)    0.0476203  -3.13416            6.27576\n",
      "(-0.955 - 0.006469j)     0.0454531  -3.13483            6.27643\n",
      "(-0.9569 - 0.00592j)     0.0434804  -3.13541            6.27698\n",
      "(-0.9587 - 0.005439j)    0.0416694  -3.13593            6.27753\n",
      "(-0.9603 - 0.005013j)    0.0400033  -3.13638            6.27795\n",
      "(-0.9618 - 0.004636j)    0.0384579  -3.13678            6.27838\n",
      "(-0.9632 - 0.0043j)      0.0370393  -3.13712            6.27869\n",
      "(-0.9645 - 0.003999j)    0.0357165  -3.13745            6.27905\n"
     ]
    }
   ],
   "source": [
    "from tabulate import tabulate\n",
    "from mpmath import *\n",
    "\n",
    "mp.dps = 4\n",
    "precise_a = mpc(a)\n",
    "\n",
    "print(f\"a={mpc(a)}\")\n",
    "print(f\"f(a)={f(precise_a)}\")\n",
    "\n",
    "table = []\n",
    "\n",
    "for n in range(1,n_max+1):\n",
    "    z = mpc(z_n(n))\n",
    "    f_z = f(z)\n",
    "    table.append([\n",
    "        z, abs(z - precise_a), f_z, abs(f_z - f(precise_a)) \n",
    "    ])\n",
    "\n",
    "print()\n",
    "print(tabulate(table, headers=['z_n', '|z_n - a|', 'f(z_n)', '|f(z_n) - f(a)|']))"
   ]
  }
 ],
 "metadata": {
  "kernelspec": {
   "display_name": "Python 3 (ipykernel)",
   "language": "python",
   "name": "python3"
  },
  "language_info": {
   "codemirror_mode": {
    "name": "ipython",
    "version": 3
   },
   "file_extension": ".py",
   "mimetype": "text/x-python",
   "name": "python",
   "nbconvert_exporter": "python",
   "pygments_lexer": "ipython3",
   "version": "3.9.7"
  }
 },
 "nbformat": 4,
 "nbformat_minor": 5
}
