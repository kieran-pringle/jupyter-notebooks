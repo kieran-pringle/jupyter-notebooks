{
 "cells": [
  {
   "cell_type": "code",
   "execution_count": 3,
   "id": "34d99324",
   "metadata": {},
   "outputs": [],
   "source": [
    "from manim import *\n",
    "from cmath import *\n",
    "\n",
    "config.media_width = \"60%\""
   ]
  },
  {
   "cell_type": "markdown",
   "id": "6dec5ac5",
   "metadata": {},
   "source": [
    "# Sequences, Convergence & Continuity"
   ]
  },
  {
   "cell_type": "code",
   "execution_count": 48,
   "id": "40fc2fe4",
   "metadata": {},
   "outputs": [],
   "source": [
    "def z_n(n):\n",
    "    return (1/n)*np.exp(-1j*PI*(1/n)) - 1;\n",
    "# estimate of what z_n converges to\n",
    "a = (-1 + 0j)\n",
    "\n",
    "def f(z):\n",
    "    return z**(1/3)\n",
    "\n",
    "f_a = f(a) # you might want to manually set this if there is a division by 0"
   ]
  },
  {
   "cell_type": "code",
   "execution_count": 5,
   "id": "c09bba74",
   "metadata": {},
   "outputs": [],
   "source": [
    "# config\n",
    "n_max = 28 # steps to plot\n",
    "zoom_step = 4 # zoom every nth step"
   ]
  },
  {
   "cell_type": "markdown",
   "id": "25862377",
   "metadata": {},
   "source": [
    "## Convergence of a simple sequence"
   ]
  },
  {
   "cell_type": "markdown",
   "id": "11423f58",
   "metadata": {},
   "source": [
    "### z_n"
   ]
  },
  {
   "cell_type": "code",
   "execution_count": 44,
   "id": "c49c2533",
   "metadata": {},
   "outputs": [
    {
     "name": "stderr",
     "output_type": "stream",
     "text": [
      "                                                                                                   \r"
     ]
    },
    {
     "data": {
      "text/html": [
       "<video src=\"media/jupyter/ZnPlot@2021-10-31@13-56-12.mp4\" controls autoplay loop style=\"max-width: 60%;\"  >\n",
       "      Your browser does not support the <code>video</code> element.\n",
       "    </video>"
      ],
      "text/plain": [
       "<IPython.core.display.Video object>"
      ]
     },
     "metadata": {},
     "output_type": "display_data"
    }
   ],
   "source": [
    "%%manim -v ERROR -ql ZnPlot\n",
    "\n",
    "class ZnPlot(MovingCameraScene):\n",
    "    def construct(self):\n",
    "        axes_style = {'stroke_width': 0.25}\n",
    "        plane = ComplexPlane(\n",
    "            x_range=[-10, 10, 1],\n",
    "            y_range=[-10, 10, 1],\n",
    "            stroke_width = 0.25,\n",
    "            axis_config={'stroke_width': 0.25}, \n",
    "            background_line_style={'stroke_width': 0.25, 'stroke_color': TEAL}, \n",
    "            faded_line_style=axes_style\n",
    "        ).add_coordinates()\n",
    "        self.add(plane)\n",
    "        dots = []\n",
    "        rad = abs(z_n(1))\n",
    "        dot_rad = 0.1\n",
    "        \n",
    "        # create shrinking circle\n",
    "        circle = Circle(\n",
    "            radius=rad, color=BLUE_B, fill_opacity=0.2, stroke_width=0\n",
    "        ).move_to(\n",
    "            [a.real, a.imag, 0]\n",
    "        )\n",
    "        estimate = Dot([a.real, a.imag, 0], fill_opacity=1, color=BLUE_B)\n",
    "        dots.append(estimate)\n",
    "        self.add(circle, estimate)\n",
    "        \n",
    "        for n in range(1,n_max + 1):\n",
    "            z = z_n(n)\n",
    "            dot = Dot([z.real,z.imag,0], radius=dot_rad)\n",
    "            dots.append(dot)\n",
    "            self.play(Create(dot), run_time = 0.25)\n",
    "            if (n%zoom_step == 0 and n < n_max):\n",
    "                # zoom in\n",
    "                # figure out new radius of circle\n",
    "                scale_factor = abs(z-a)/rad\n",
    "                self.play(\n",
    "                    self.camera.frame.animate.scale(scale_factor).move_to([a.real, a.imag, 0]),\n",
    "                    *[d.animate.scale(scale_factor) for d in dots]\n",
    "                )\n",
    "                self.play(circle.animate.scale(scale_factor))\n",
    "                dot_rad *= scale_factor\n",
    "                rad = abs(z-a)\n",
    "        self.wait(4)\n"
   ]
  },
  {
   "cell_type": "markdown",
   "id": "3a30f3fd",
   "metadata": {},
   "source": [
    "## f(z_n)"
   ]
  },
  {
   "cell_type": "code",
   "execution_count": 46,
   "id": "6518fe0f",
   "metadata": {},
   "outputs": [
    {
     "name": "stderr",
     "output_type": "stream",
     "text": [
      "                                                                                                   \r"
     ]
    },
    {
     "data": {
      "text/html": [
       "<video src=\"media/jupyter/FZnPlot@2021-10-31@13-59-18.mp4\" controls autoplay loop style=\"max-width: 60%;\"  >\n",
       "      Your browser does not support the <code>video</code> element.\n",
       "    </video>"
      ],
      "text/plain": [
       "<IPython.core.display.Video object>"
      ]
     },
     "metadata": {},
     "output_type": "display_data"
    }
   ],
   "source": [
    "%%manim -v ERROR -ql FZnPlot\n",
    "\n",
    "class FZnPlot(MovingCameraScene):\n",
    "    def construct(self):\n",
    "        axes_style = {'stroke_width': 0.25}\n",
    "        plane = ComplexPlane(\n",
    "            x_range=[-10, 10, 1],\n",
    "            y_range=[-10, 10, 1],\n",
    "            stroke_width = 0.25,\n",
    "            axis_config={'stroke_width': 0.25}, \n",
    "            background_line_style={'stroke_width': 0.25, 'stroke_color': TEAL}, \n",
    "            faded_line_style=axes_style\n",
    "        ).add_coordinates()\n",
    "        self.add(plane)\n",
    "        dots = []\n",
    "        rad = abs(f(z_n(1)))\n",
    "        dot_rad = 0.1\n",
    "        \n",
    "        f_a = f(a)\n",
    "        \n",
    "        # create shrinking circle\n",
    "        circle = Circle(\n",
    "            radius=rad, color=GREEN_B, fill_opacity=0.2, stroke_width=0\n",
    "        ).move_to(\n",
    "            [f_a.real, f_a.imag, 0]\n",
    "        )\n",
    "        estimate = Dot([f_a.real, f_a.imag, 0], fill_opacity=1, color=GREEN_B)\n",
    "        dots.append(estimate)\n",
    "        self.add(circle, estimate)\n",
    "        \n",
    "        for n in range(1,n_max + 1):\n",
    "            z = f(z_n(n))\n",
    "            dot = Dot([z.real,z.imag,0], radius=dot_rad)\n",
    "            dots.append(dot)\n",
    "            self.play(Create(dot), run_time = 0.25)\n",
    "            if (n%zoom_step == 0 and n < n_max):\n",
    "                # zoom in\n",
    "                # figure out new radius of circle\n",
    "                scale_factor = abs(z-f_a)/rad\n",
    "                self.play(\n",
    "                    self.camera.frame.animate.scale(scale_factor).move_to([f_a.real, f_a.imag, 0]),\n",
    "                    *[d.animate.scale(scale_factor) for d in dots]\n",
    "                )\n",
    "                self.play(circle.animate.scale(scale_factor))\n",
    "                dot_rad *= scale_factor\n",
    "                rad = abs(z-f_a)\n",
    "        self.wait(4)\n"
   ]
  },
  {
   "cell_type": "markdown",
   "id": "cb9f2077",
   "metadata": {},
   "source": [
    "### Table of differences"
   ]
  },
  {
   "cell_type": "code",
   "execution_count": 42,
   "id": "14cff444",
   "metadata": {},
   "outputs": [
    {
     "name": "stdout",
     "output_type": "stream",
     "text": [
      "a=(-1.0 + 0.0j)\n",
      "f(a)=(0.5 + 0.866j)\n",
      "\n",
      "z_n                      |z_n - a|  f(z_n)                |f(z_n) - f(a)|\n",
      "---------------------  -----------  ------------------  -----------------\n",
      "(-2.0 - 1.225e-16j)      1          (0.63 - 1.091j)               1.96146\n",
      "(-1.0 - 0.5j)            0.5        (0.6511 - 0.8082j)            1.68108\n",
      "(-0.8333 - 0.2887j)      0.333332   (0.5687 - 0.7722j)            1.63965\n",
      "(-0.8232 - 0.1768j)      0.249998   (0.5286 - 0.7825j)            1.64874\n",
      "(-0.8382 - 0.1176j)      0.200001   (0.5105 - 0.7964j)            1.66241\n",
      "(-0.8557 - 0.08333j)     0.16667    (0.5018 - 0.8077j)            1.67368\n",
      "(-0.8713 - 0.06198j)     0.142855   (0.4974 - 0.8163j)            1.68233\n",
      "(-0.8845 - 0.04784j)     0.125002   (0.4951 - 0.8229j)            1.68896\n",
      "(-0.8956 - 0.038j)       0.111109   (0.4939 - 0.8281j)            1.69417\n",
      "(-0.9049 - 0.0309j)      0.100002   (0.4932 - 0.8323j)            1.69829\n",
      "(-0.9128 - 0.02561j)     0.090909   (0.4929 - 0.8356j)            1.70166\n",
      "(-0.9195 - 0.02157j)     0.0833302  (0.4928 - 0.8384j)            1.70442\n",
      "(-0.9253 - 0.01841j)     0.0769196  (0.4928 - 0.8407j)            1.70676\n",
      "(-0.9304 - 0.01589j)     0.0714321  (0.4929 - 0.8427j)            1.70872\n",
      "(-0.9348 - 0.01386j)     0.0666656  (0.4931 - 0.8444j)            1.71043\n",
      "(-0.9387 - 0.01219j)     0.0625029  (0.4932 - 0.8458j)            1.7119\n",
      "(-0.9422 - 0.01081j)     0.0588245  (0.4934 - 0.8471j)            1.71318\n",
      "(-0.9453 - 0.009647j)    0.0555544  (0.4936 - 0.8483j)            1.71431\n",
      "(-0.9481 - 0.008663j)    0.052628   (0.4938 - 0.8493j)            1.71532\n",
      "(-0.9506 - 0.007822j)    0.0500007  (0.494 - 0.8502j)             1.71623\n",
      "(-0.9529 - 0.007097j)    0.0476203  (0.4941 - 0.851j)             1.71704\n",
      "(-0.955 - 0.006469j)     0.0454531  (0.4943 - 0.8517j)            1.71777\n",
      "(-0.9569 - 0.00592j)     0.0434804  (0.4945 - 0.8524j)            1.71843\n",
      "(-0.9587 - 0.005439j)    0.0416694  (0.4946 - 0.853j)             1.71904\n",
      "(-0.9603 - 0.005013j)    0.0400033  (0.4948 - 0.8536j)            1.71957\n",
      "(-0.9618 - 0.004636j)    0.0384579  (0.4949 - 0.8541j)            1.72009\n",
      "(-0.9632 - 0.0043j)      0.0370393  (0.4951 - 0.8545j)            1.72057\n",
      "(-0.9645 - 0.003999j)    0.0357165  (0.4952 - 0.855j)             1.72101\n"
     ]
    }
   ],
   "source": [
    "from tabulate import tabulate\n",
    "from mpmath import *\n",
    "\n",
    "mp.dps = 4\n",
    "precise_a = mpc(a)\n",
    "\n",
    "print(f\"a={mpc(a)}\")\n",
    "print(f\"f(a)={f(precise_a)}\")\n",
    "\n",
    "table = []\n",
    "\n",
    "for n in range(1,n_max+1):\n",
    "    z = mpc(z_n(n))\n",
    "    f_z = f(z)\n",
    "    table.append([\n",
    "        z, abs(z - precise_a), f_z, abs(f_z - f(precise_a)) \n",
    "    ])\n",
    "\n",
    "print()\n",
    "print(tabulate(table, headers=['z_n', '|z_n - a|', 'f(z_n)', '|f(z_n) - f(a)|']))"
   ]
  },
  {
   "cell_type": "markdown",
   "id": "024c6b6d",
   "metadata": {},
   "source": [
    "### Cluster of points"
   ]
  },
  {
   "cell_type": "code",
   "execution_count": 49,
   "id": "1bd49003",
   "metadata": {},
   "outputs": [],
   "source": [
    "delta = 0.25 # change this to change the cluster of points generated"
   ]
  },
  {
   "cell_type": "code",
   "execution_count": null,
   "id": "36826caf",
   "metadata": {},
   "outputs": [],
   "source": [
    "# generate ~100 points within delta of "
   ]
  }
 ],
 "metadata": {
  "kernelspec": {
   "display_name": "Python 3 (ipykernel)",
   "language": "python",
   "name": "python3"
  },
  "language_info": {
   "codemirror_mode": {
    "name": "ipython",
    "version": 3
   },
   "file_extension": ".py",
   "mimetype": "text/x-python",
   "name": "python",
   "nbconvert_exporter": "python",
   "pygments_lexer": "ipython3",
   "version": "3.9.7"
  }
 },
 "nbformat": 4,
 "nbformat_minor": 5
}
