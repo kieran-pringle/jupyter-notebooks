{
 "cells": [
  {
   "cell_type": "code",
   "execution_count": 1,
   "id": "34d99324",
   "metadata": {},
   "outputs": [
    {
     "data": {
      "text/html": [
       "<pre style=\"white-space:pre;overflow-x:auto;line-height:normal;font-family:Menlo,'DejaVu Sans Mono',consolas,'Courier New',monospace\">Manim Community <span style=\"color: #008000; text-decoration-color: #008000\">v0.11.0</span>\n",
       "\n",
       "</pre>\n"
      ],
      "text/plain": [
       "Manim Community \u001b[32mv0.\u001b[0m\u001b[32m11.0\u001b[0m\n",
       "\n"
      ]
     },
     "metadata": {},
     "output_type": "display_data"
    }
   ],
   "source": [
    "from manim import *\n",
    "from cmath import *\n",
    "\n",
    "config.media_width = \"60%\""
   ]
  },
  {
   "cell_type": "markdown",
   "id": "6dec5ac5",
   "metadata": {},
   "source": [
    "# Sequences, Convergence & Continuity"
   ]
  },
  {
   "cell_type": "code",
   "execution_count": 20,
   "id": "40fc2fe4",
   "metadata": {},
   "outputs": [],
   "source": [
    "def z_n(n):\n",
    "    return (2j*n**2 + 3*n + 2j)/(3*n**2 + 1j*n);\n",
    "# estimate of what z_n converges to\n",
    "z_a = 2j/3\n",
    "\n",
    "def f(z):\n",
    "    return z;"
   ]
  },
  {
   "cell_type": "code",
   "execution_count": 21,
   "id": "c09bba74",
   "metadata": {},
   "outputs": [],
   "source": [
    "# config\n",
    "n_max = 28 # steps to plot\n",
    "zoom_step = 4 # zoom every nth step"
   ]
  },
  {
   "cell_type": "markdown",
   "id": "25862377",
   "metadata": {},
   "source": [
    "## Convergence of a simple sequence"
   ]
  },
  {
   "cell_type": "markdown",
   "id": "11423f58",
   "metadata": {},
   "source": [
    "### z_n"
   ]
  },
  {
   "cell_type": "code",
   "execution_count": 22,
   "id": "c49c2533",
   "metadata": {},
   "outputs": [
    {
     "name": "stderr",
     "output_type": "stream",
     "text": [
      "                                                                                                   \r"
     ]
    },
    {
     "data": {
      "text/html": [
       "<video src=\"media/jupyter/ZnPlot@2021-10-30@14-02-32.mp4\" controls autoplay loop style=\"max-width: 60%;\"  >\n",
       "      Your browser does not support the <code>video</code> element.\n",
       "    </video>"
      ],
      "text/plain": [
       "<IPython.core.display.Video object>"
      ]
     },
     "metadata": {},
     "output_type": "display_data"
    }
   ],
   "source": [
    "%%manim -v ERROR -ql ZnPlot\n",
    "\n",
    "class ZnPlot(MovingCameraScene):\n",
    "    def construct(self):\n",
    "        axes_style = {'stroke_width': 0.25}\n",
    "        plane = ComplexPlane(\n",
    "            x_range=[-10, 10, 1],\n",
    "            y_range=[-10, 10, 1],\n",
    "            stroke_width = 0.25,\n",
    "            axis_config={'stroke_width': 0.25}, \n",
    "            background_line_style={'stroke_width': 0.25, 'stroke_color': TEAL}, \n",
    "            faded_line_style=axes_style\n",
    "        )\n",
    "        self.add(plane)\n",
    "        dots = []\n",
    "        rad = abs(z_n(1))\n",
    "        dot_rad = 0.1\n",
    "        \n",
    "        # create shrinking circle\n",
    "        circle = Circle(\n",
    "            radius=rad, color=BLUE_B, fill_opacity=0.2, stroke_width=0\n",
    "        ).move_to(\n",
    "            [z_a.real, z_a.imag, 0]\n",
    "        )\n",
    "        self.add(circle)\n",
    "        \n",
    "        for n in range(1,n_max + 1):\n",
    "            z = z_n(n)\n",
    "            dot = Dot([z.real,z.imag,0], radius=dot_rad)\n",
    "            dots.append(dot)\n",
    "            self.play(Create(dot), run_time = 0.25)\n",
    "            if (n%zoom_step == 0 and n < n_max):\n",
    "                # zoom in\n",
    "                # figure out new radius of circle\n",
    "                scale_factor = abs(z-z_a)/rad\n",
    "                self.play(\n",
    "                    self.camera.frame.animate.scale(scale_factor).move_to([z_a.real, z_a.imag, 0]),\n",
    "                    *[d.animate.scale(scale_factor) for d in dots]\n",
    "                )\n",
    "                self.play(circle.animate.scale(scale_factor))\n",
    "                dot_rad *= scale_factor\n",
    "                rad = abs(z-z_a)\n",
    "        self.wait(4)\n"
   ]
  }
 ],
 "metadata": {
  "kernelspec": {
   "display_name": "Python 3 (ipykernel)",
   "language": "python",
   "name": "python3"
  },
  "language_info": {
   "codemirror_mode": {
    "name": "ipython",
    "version": 3
   },
   "file_extension": ".py",
   "mimetype": "text/x-python",
   "name": "python",
   "nbconvert_exporter": "python",
   "pygments_lexer": "ipython3",
   "version": "3.9.7"
  }
 },
 "nbformat": 4,
 "nbformat_minor": 5
}
